{
 "cells": [
  {
   "cell_type": "markdown",
   "source": [
    "# Using Elasticsearch in PyTerrier experiments\n",
    "Elasticsearch can store huge indices that could not easily be retrieved from with PyTerrier.\n",
    "Using the Elasticsearch API via the [`elasticsearch`](https://pypi.org/project/elasticsearch/) Python package,\n",
    "we can integrate large indices into PyTerrier experiments and take advantage of Elasticsearch's distribution capabilities."
   ],
   "metadata": {
    "collapsed": false,
    "pycharm": {
     "name": "#%% md\n"
    }
   }
  },
  {
   "cell_type": "markdown",
   "source": [
    "## Configuration\n",
    "To access Elasticsearch, we need to connect to a cluster by URL, username, and password. Refer to the [API documentation](https://www.elastic.co/guide/en/elasticsearch/client/python-api/current/connecting.html) about other ways to connect to a cluster."
   ],
   "metadata": {
    "collapsed": false,
    "pycharm": {
     "name": "#%% md\n"
    }
   }
  },
  {
   "cell_type": "code",
   "execution_count": null,
   "outputs": [],
   "source": [
    "url: str = input(\"Elasticsearch URL: \")"
   ],
   "metadata": {
    "collapsed": false,
    "pycharm": {
     "name": "#%%\n"
    }
   }
  },
  {
   "cell_type": "code",
   "execution_count": null,
   "outputs": [],
   "source": [
    "username: str = input(\"Elasticsearch username: \")"
   ],
   "metadata": {
    "collapsed": false,
    "pycharm": {
     "name": "#%%\n"
    }
   }
  },
  {
   "cell_type": "code",
   "execution_count": null,
   "outputs": [],
   "source": [
    "password: str = input(\"Elasticsearch password: \")"
   ],
   "metadata": {
    "collapsed": false,
    "pycharm": {
     "name": "#%%\n"
    }
   }
  },
  {
   "cell_type": "code",
   "execution_count": null,
   "outputs": [],
   "source": [
    "index: str = input(\"Elasticsearch index: \")"
   ],
   "metadata": {
    "collapsed": false,
    "pycharm": {
     "name": "#%%\n"
    }
   }
  },
  {
   "cell_type": "markdown",
   "source": [
    "## Setup"
   ],
   "metadata": {
    "collapsed": false,
    "pycharm": {
     "name": "#%% md\n"
    }
   }
  },
  {
   "cell_type": "markdown",
   "source": [
    "Install Python packages if run in Google Colab."
   ],
   "metadata": {
    "collapsed": false,
    "pycharm": {
     "name": "#%% md\n"
    }
   }
  },
  {
   "cell_type": "code",
   "execution_count": null,
   "outputs": [],
   "source": [
    "from sys import modules\n",
    "\n",
    "if \"google.colab\" in modules:\n",
    "    !pip install -q chatnoir-pyterrier python-terrier"
   ],
   "metadata": {
    "collapsed": false,
    "pycharm": {
     "name": "#%%\n"
    }
   }
  },
  {
   "cell_type": "markdown",
   "source": [
    "Initialize PyTerrier."
   ],
   "metadata": {
    "collapsed": false,
    "pycharm": {
     "name": "#%% md\n"
    }
   }
  },
  {
   "cell_type": "code",
   "execution_count": null,
   "outputs": [],
   "source": [
    "from pyterrier import init, started"
   ],
   "metadata": {
    "collapsed": false,
    "pycharm": {
     "name": "#%%\n"
    }
   }
  },
  {
   "cell_type": "code",
   "execution_count": null,
   "outputs": [],
   "source": [
    "if not started():\n",
    "    init()"
   ],
   "metadata": {
    "collapsed": false,
    "pycharm": {
     "name": "#%%\n"
    }
   }
  },
  {
   "cell_type": "markdown",
   "source": [
    "Connect to Elasticsearch cluster."
   ],
   "metadata": {
    "collapsed": false,
    "pycharm": {
     "name": "#%% md\n"
    }
   }
  },
  {
   "cell_type": "code",
   "execution_count": null,
   "outputs": [],
   "source": [
    "from elasticsearch import Elasticsearch\n",
    "\n",
    "client = Elasticsearch(\n",
    "    hosts=url,\n",
    "    basic_auth=(username, password)\n",
    ")\n",
    "client"
   ],
   "metadata": {
    "collapsed": false,
    "pycharm": {
     "name": "#%%\n"
    }
   }
  },
  {
   "cell_type": "markdown",
   "source": [
    "## Retrieval pipeline\n",
    "We can now create a retrieval pipeline which retrieves results from Elasticsearch.\n",
    "Create a `ElasticsearchRetrieve` transformer by specifying the ChatNoir API key and (optionally) some index.\n",
    "You can then use the pipeline in the same way as `BatchRetrieve`.\n",
    "\n",
    "The `fields` parameter specifies on which fields of the Elasticsearch index the terms should match.\n",
    "The `columns` parameter then specifies which Elasticsearch fields are mapped to which column in the result data frame.\n",
    "\n",
    "(We [cache](https://pyterrier.readthedocs.io/en/latest/operators.html#caching) the transformer results with `~`.)"
   ],
   "metadata": {
    "collapsed": false,
    "pycharm": {
     "name": "#%% md\n"
    }
   }
  },
  {
   "cell_type": "code",
   "execution_count": null,
   "outputs": [],
   "source": [
    "from pyterrier_elasticsearch import ElasticsearchRetrieve\n",
    "\n",
    "es_text_title = ~ElasticsearchRetrieve(\n",
    "    client=client,\n",
    "    index=index,\n",
    "    fields=[\"text\", \"title\"],\n",
    "    columns={\n",
    "        # source field -> destination column\n",
    "        \"text\": \"text\",\n",
    "        \"title\": \"title\",\n",
    "    },\n",
    "    verbose=True,\n",
    ")"
   ],
   "metadata": {
    "collapsed": false,
    "pycharm": {
     "name": "#%%\n"
    }
   }
  },
  {
   "cell_type": "markdown",
   "source": [
    "### Search\n",
    "For example, we can search the ClueWeb 12 for documents containing `python library`:"
   ],
   "metadata": {
    "collapsed": false,
    "pycharm": {
     "name": "#%% md\n"
    }
   }
  },
  {
   "cell_type": "code",
   "execution_count": null,
   "outputs": [],
   "source": [
    "es_text_title.search(\"python library\")"
   ],
   "metadata": {
    "collapsed": false,
    "pycharm": {
     "name": "#%%\n"
    }
   }
  },
  {
   "cell_type": "markdown",
   "source": [
    "### Evaluation\n",
    "We can also use the pipeline in a PyTerrier `Experiment` (and compare it to other retrieval pipelines).\n",
    "First, we need to download the test topics, for example from the TREC Web Track 2014.\n",
    "(Refer to the [PyTerrier documentation](https://pyterrier.readthedocs.io/en/latest/datasets.html#examples) for more detailed guides.)"
   ],
   "metadata": {
    "collapsed": false,
    "pycharm": {
     "name": "#%% md\n"
    }
   }
  },
  {
   "cell_type": "code",
   "execution_count": null,
   "outputs": [],
   "source": [
    "from pandas import DataFrame\n",
    "from pyterrier.datasets import Dataset, get_dataset\n",
    "\n",
    "dataset: Dataset = get_dataset(\"irds:clueweb12/trec-web-2014\")\n",
    "topics: DataFrame = dataset.get_topics(variant=\"query\").iloc[:5]"
   ],
   "metadata": {
    "collapsed": false,
    "pycharm": {
     "name": "#%%\n"
    }
   }
  },
  {
   "cell_type": "markdown",
   "source": [
    "Now we can, for example, retrieve documents for the TREC Web Track 2014 topics."
   ],
   "metadata": {
    "collapsed": false,
    "pycharm": {
     "name": "#%% md\n"
    }
   }
  },
  {
   "cell_type": "code",
   "execution_count": null,
   "outputs": [],
   "source": [
    "es_text_title.transform(topics)"
   ],
   "metadata": {
    "collapsed": false,
    "pycharm": {
     "name": "#%%\n"
    }
   }
  },
  {
   "cell_type": "markdown",
   "source": [
    "Alternatively, we could compare the results with searching only the text field."
   ],
   "metadata": {
    "collapsed": false,
    "pycharm": {
     "name": "#%% md\n"
    }
   }
  },
  {
   "cell_type": "code",
   "execution_count": null,
   "outputs": [],
   "source": [
    "from pyterrier_elasticsearch import ElasticsearchRetrieve\n",
    "\n",
    "es_text = ~ElasticsearchRetrieve(\n",
    "    client=client,\n",
    "    index=index,\n",
    "    fields=[\"text\"],\n",
    "    columns={\n",
    "        # source field -> destination column\n",
    "        \"text\": \"text\",\n",
    "        \"title\": \"title\",\n",
    "    },\n",
    "    verbose=True,\n",
    ")"
   ],
   "metadata": {
    "collapsed": false,
    "pycharm": {
     "name": "#%%\n"
    }
   }
  },
  {
   "cell_type": "code",
   "execution_count": null,
   "outputs": [],
   "source": [],
   "metadata": {
    "collapsed": false,
    "pycharm": {
     "name": "#%%\n"
    }
   }
  },
  {
   "cell_type": "markdown",
   "source": [
    "Then we runs an experiment like this"
   ],
   "metadata": {
    "collapsed": false,
    "pycharm": {
     "name": "#%% md\n"
    }
   }
  },
  {
   "cell_type": "code",
   "execution_count": null,
   "outputs": [],
   "source": [
    "from ir_measures import nDCG, RR, MAP\n",
    "from pyterrier.pipelines import Experiment\n",
    "\n",
    "Experiment(\n",
    "    [es_text_title, es_text],\n",
    "    topics,\n",
    "    dataset.get_qrels(),\n",
    "    eval_metrics=[nDCG @ 5, MAP, RR],\n",
    "    names=[\"ES (text+title)\", \"ES (text)\"],\n",
    ")"
   ],
   "metadata": {
    "collapsed": false,
    "pycharm": {
     "name": "#%%\n"
    }
   }
  }
 ],
 "metadata": {
  "kernelspec": {
   "display_name": "Python 3",
   "language": "python",
   "name": "python3"
  },
  "language_info": {
   "codemirror_mode": {
    "name": "ipython",
    "version": 2
   },
   "file_extension": ".py",
   "mimetype": "text/x-python",
   "name": "python",
   "nbconvert_exporter": "python",
   "pygments_lexer": "ipython2",
   "version": "2.7.6"
  }
 },
 "nbformat": 4,
 "nbformat_minor": 0
}